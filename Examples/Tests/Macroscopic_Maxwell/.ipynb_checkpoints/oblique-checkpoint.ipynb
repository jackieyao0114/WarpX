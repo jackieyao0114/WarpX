{
 "cells": [
  {
   "cell_type": "code",
   "execution_count": null,
   "metadata": {},
   "outputs": [],
   "source": [
    "# Import statements\n",
    "from platform import python_version\n",
    "print(python_version())\n",
    "import yt ; \n",
    "yt.funcs.mylog.setLevel(50)\n",
    "import numpy as np\n",
    "import scipy.constants as scc\n",
    "import matplotlib.pyplot as plt\n",
    "import matplotlib.pylab as pylab\n",
    "plt.rcParams['axes.labelsize'] = 24\n",
    "plt.rcParams['xtick.labelsize'] = 20\n",
    "plt.rcParams['ytick.labelsize'] = 20\n",
    "plt.rcParams['axes.titlesize'] = 24\n",
    "import math\n",
    "import cmath\n",
    "import os\n",
    "#%matplotlib notebook\n",
    "iteration = 0\n",
    "dt_iter = 10\n",
    "while iteration < 1001 :\n",
    "    ds = yt.load( './diags/diag1'+str(iteration).zfill(5) ) # Create a dataset object\\n\",\n",
    "    sl = yt.SlicePlot(ds,1,'Ex', aspect=1)\n",
    "    sl.show()\n",
    "    sl.save(str(iteration).zfill(5)+'_slice_.png')\n",
    "    iteration = iteration + dt_iter\n",
    "    \n",
    "wavelength = 32.e-3\n",
    "mu0 = 4*math.pi*1.e-7\n",
    "epsilon0 = 8.86e-12\n",
    "epr = 6\n",
    "mur = 6\n",
    "c0 = 1/math.sqrt(mu0*epsilon0)\n",
    "omega = 2*math.pi*c0/wavelength\n",
    "sigma = 0 # conductivity of media\n",
    "gamma = 1j*omega*math.sqrt(mur*epr*mu0*epsilon0)*cmath.sqrt(1-1j*sigma/omega/epr/epsilon0)\n",
    "eta = 1j*omega*mur*mu0/gamma # intrinsic impedance of media\n",
    "#eta = math.sqrt(mu0*mur/epr/epsilon0)\n",
    "c = 1/cmath.sqrt(mu0*mur*(epr*epsilon0-1j*sigma/omega)) #speed of light in media\n",
    "dt = 1.225592745e-12\n",
    "#z_obs = 128e-3\n",
    "#nt = z_obs/c0/dt\n",
    "nt = 250\n",
    "z_obs = nt*dt*np.real(c)\n",
    "z_obs = 0.1\n",
    "print(\"speed of light in vacuum\", c0)\n",
    "print(\"speed of light in media\", c)\n",
    "print(\"frequency = \", omega/2/math.pi)\n",
    "print(\"propagation const = \", gamma)\n",
    "print(\"intrinsic impedance = \", eta)\n",
    "print(\"tranmission coef = \", 2*eta/(eta+120*math.pi))\n",
    "print(\"reflection coef =\", (eta-120*math.pi)/(eta+120*math.pi))\n",
    "print(\"observation time point\", nt)\n",
    "print(\"observation point z =\", z_obs)\n",
    "print(\"attenuation term = \", math.exp(-np.real(gamma)*z_obs))"
   ]
  },
  {
   "cell_type": "markdown",
   "metadata": {},
   "source": []
  },
  {
   "cell_type": "code",
   "execution_count": null,
   "metadata": {},
   "outputs": [],
   "source": []
  }
 ],
 "metadata": {
  "kernelspec": {
   "display_name": "Python 3",
   "language": "python",
   "name": "python3"
  },
  "language_info": {
   "codemirror_mode": {
    "name": "ipython",
    "version": 3
   },
   "file_extension": ".py",
   "mimetype": "text/x-python",
   "name": "python",
   "nbconvert_exporter": "python",
   "pygments_lexer": "ipython3",
   "version": "3.6.9"
  }
 },
 "nbformat": 4,
 "nbformat_minor": 4
}
